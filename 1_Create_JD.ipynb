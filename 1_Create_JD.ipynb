{
 "cells": [
  {
   "cell_type": "code",
   "execution_count": 2,
   "metadata": {},
   "outputs": [],
   "source": [
    "import os\n",
    "import random\n",
    "import asyncio\n",
    "\n",
    "from autogen_ext.models.openai import OpenAIChatCompletionClient\n",
    "from autogen_agentchat.agents import AssistantAgent\n",
    "\n",
    "from dotenv import load_dotenv\n",
    "_ = load_dotenv(override=True)\n",
    "NEXUS_API_KEY = os.getenv(\"ATENTO_NEXUS_API_KEY\")\n",
    "NEXUS_URL = os.getenv(\"ATENTO_NEXUS_URL\")"
   ]
  },
  {
   "cell_type": "code",
   "execution_count": 3,
   "metadata": {},
   "outputs": [],
   "source": [
    "from autogen_ext.models.openai import OpenAIChatCompletionClient\n",
    "model_client = OpenAIChatCompletionClient(\n",
    "    model=\"gpt-4.1-mini\",\n",
    "    temperature = 0.2,\n",
    "    seed = random.randint(0, 65535),\n",
    "    api_key=NEXUS_API_KEY,\n",
    "    base_url=NEXUS_URL\n",
    ")"
   ]
  },
  {
   "cell_type": "code",
   "execution_count": 15,
   "metadata": {},
   "outputs": [],
   "source": [
    "from autogen_agentchat.agents import AssistantAgent\n",
    "agent = AssistantAgent(\n",
    "    name=\"cv_generator\",\n",
    "    model_client=model_client,\n",
    "    system_message=\"\"\"You are an expert in Talent Acquisition specialized in creating 1-page job descriptions.\n",
    "    Add requirements for the job role which look real and up to date.\n",
    "    Generate only the contents of job description and avoid any further comments.\n",
    "    The job description must be generated in Markdown format.\"\"\"\n",
    ")"
   ]
  },
  {
   "cell_type": "code",
   "execution_count": 16,
   "metadata": {},
   "outputs": [],
   "source": [
    "fields = ['Computer Science', 'Machine Learning', 'Accounting', 'Marketing', 'Customer Service', 'Backend Developer', 'Frontend Developer',\n",
    "          'AI Engineering', 'Data Science', 'Applied Mathematics', 'Statistics']\n",
    "experience = [2, 3, 5, 7, 10]\n",
    "languages = ['English', 'Portuguese', 'Spanish']"
   ]
  },
  {
   "cell_type": "code",
   "execution_count": 17,
   "metadata": {},
   "outputs": [],
   "source": [
    "async def run_in_parallel(jd_count=10):\n",
    "    tasks = []\n",
    "    \n",
    "    for i in range(jd_count):\n",
    "        field = random.choice(fields)\n",
    "        exp = random.choice(experience)\n",
    "        lang = random.choice(languages)\n",
    "        task = f\"Produce a job description for the field of {field} with {exp} years of experience. The job description must be written in the following language: {lang}.\"\n",
    "        tasks.append(agent.run(task=task))\n",
    "    \n",
    "    cvs = await asyncio.gather(*tasks)\n",
    "    return cvs"
   ]
  },
  {
   "cell_type": "code",
   "execution_count": 18,
   "metadata": {},
   "outputs": [],
   "source": [
    "xpto = await run_in_parallel(jd_count = 10)"
   ]
  },
  {
   "cell_type": "code",
   "execution_count": 25,
   "metadata": {},
   "outputs": [
    {
     "data": {
      "text/markdown": [
       "# Descrição da Vaga: Especialista em Marketing (5 anos de experiência)\n",
       "\n",
       "## Sobre a vaga\n",
       "Estamos em busca de um profissional de Marketing com 5 anos de experiência para integrar nossa equipe dinâmica. O candidato ideal será responsável por planejar, executar e analisar estratégias de marketing que impulsionem o crescimento da marca e aumentem o engajamento com o público-alvo.\n",
       "\n",
       "## Responsabilidades\n",
       "- Desenvolver e implementar campanhas de marketing digital e offline.\n",
       "- Gerenciar redes sociais, SEO, SEM e outras ferramentas de marketing digital.\n",
       "- Analisar métricas e KPIs para otimizar campanhas e estratégias.\n",
       "- Coordenar ações de branding e comunicação institucional.\n",
       "- Colaborar com equipes de vendas, design e produto para alinhar estratégias.\n",
       "- Realizar pesquisas de mercado para identificar oportunidades e tendências.\n",
       "- Gerenciar orçamento de marketing e fornecedores externos.\n",
       "\n",
       "## Requisitos\n",
       "- Formação superior em Marketing, Administração, Comunicação ou áreas correlatas.\n",
       "- Mínimo de 5 anos de experiência comprovada em marketing.\n",
       "- Conhecimento avançado em ferramentas de marketing digital (Google Ads, Facebook Ads, Google Analytics, SEO).\n",
       "- Habilidade em planejamento estratégico e análise de dados.\n",
       "- Excelente comunicação verbal e escrita.\n",
       "- Experiência com gestão de equipes e projetos.\n",
       "- Inglês intermediário/avançado será considerado um diferencial.\n",
       "- Capacidade de trabalhar em ambiente dinâmico e orientado a resultados.\n",
       "\n",
       "## Benefícios\n",
       "- Salário compatível com o mercado.\n",
       "- Plano de saúde e odontológico.\n",
       "- Vale-refeição ou alimentação.\n",
       "- Ambiente de trabalho colaborativo e inovador.\n",
       "- Oportunidades de desenvolvimento e crescimento profissional.\n",
       "\n",
       "## Como se candidatar\n",
       "Envie seu currículo atualizado e portfólio de campanhas para [email@empresa.com] com o assunto \"Vaga Especialista em Marketing\"."
      ],
      "text/plain": [
       "<IPython.core.display.Markdown object>"
      ]
     },
     "metadata": {},
     "output_type": "display_data"
    }
   ],
   "source": [
    "from IPython.display import Markdown\n",
    "display(Markdown(xpto[6].messages[-1].content))"
   ]
  }
 ],
 "metadata": {
  "kernelspec": {
   "display_name": ".venv",
   "language": "python",
   "name": "python3"
  },
  "language_info": {
   "codemirror_mode": {
    "name": "ipython",
    "version": 3
   },
   "file_extension": ".py",
   "mimetype": "text/x-python",
   "name": "python",
   "nbconvert_exporter": "python",
   "pygments_lexer": "ipython3",
   "version": "3.12.11"
  }
 },
 "nbformat": 4,
 "nbformat_minor": 2
}
