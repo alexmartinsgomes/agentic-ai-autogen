{
 "cells": [
  {
   "cell_type": "code",
   "execution_count": 1,
   "metadata": {},
   "outputs": [],
   "source": [
    "import os\n",
    "import random\n",
    "import asyncio\n",
    "\n",
    "from autogen_ext.models.openai import OpenAIChatCompletionClient\n",
    "from autogen_agentchat.agents import AssistantAgent\n",
    "\n",
    "from dotenv import load_dotenv\n",
    "_ = load_dotenv(override=True)\n",
    "NEXUS_API_KEY = os.getenv(\"ATENTO_NEXUS_API_KEY\")\n",
    "NEXUS_URL = os.getenv(\"ATENTO_NEXUS_URL\")"
   ]
  },
  {
   "cell_type": "code",
   "execution_count": 2,
   "metadata": {},
   "outputs": [],
   "source": [
    "from autogen_ext.models.openai import OpenAIChatCompletionClient\n",
    "model_client = OpenAIChatCompletionClient(\n",
    "    model=\"gpt-4.1-mini\",\n",
    "    temperature = 0.2,\n",
    "    seed = random.randint(0, 65535),\n",
    "    api_key=NEXUS_API_KEY,\n",
    "    base_url=NEXUS_URL\n",
    ")"
   ]
  },
  {
   "cell_type": "code",
   "execution_count": null,
   "metadata": {},
   "outputs": [],
   "source": [
    "from autogen_agentchat.agents import AssistantAgent\n",
    "agent = AssistantAgent(\n",
    "    name=\"jd_generator\",\n",
    "    model_client=model_client,\n",
    "    system_message=\"\"\"You are an expert in Talent Acquisition specialized in creating 1-page job descriptions.\n",
    "    Add requirements for the job role which look real and up to date.\n",
    "    Generate only the contents of job description and avoid any further comments.\n",
    "    The job description must be generated in Markdown format.\"\"\"\n",
    ")"
   ]
  },
  {
   "cell_type": "code",
   "execution_count": 4,
   "metadata": {},
   "outputs": [],
   "source": [
    "fields = ['Computer Science', 'Machine Learning', 'Accounting', 'Marketing', 'Customer Service', 'Backend Developer', 'Frontend Developer',\n",
    "          'AI Engineering', 'Data Science', 'Applied Mathematics', 'Statistics']\n",
    "experience = [2, 3, 5, 7, 10]\n",
    "languages = ['English', 'Portuguese', 'Spanish']"
   ]
  },
  {
   "cell_type": "code",
   "execution_count": null,
   "metadata": {},
   "outputs": [],
   "source": [
    "async def generate_jd(jd_count=10):\n",
    "\n",
    "    jds = []\n",
    "    \n",
    "    async with asyncio.TaskGroup() as tg:\n",
    "        task_list = []\n",
    "        \n",
    "        for i in range(jd_count):\n",
    "            field = random.choice(fields)\n",
    "            exp = random.choice(experience)\n",
    "            lang = random.choice(languages)\n",
    "            \n",
    "            task_prompt = f\"Produce a job description for the field of {field} with {exp} years of experience. The job description must be written in the following language: {lang}.\"\n",
    "            \n",
    "            task = tg.create_task(agent.run(task=task_prompt))\n",
    "            task_list.append(task)\n",
    "    \n",
    "    jds = [task.result() for task in task_list]\n",
    "    \n",
    "    return jds"
   ]
  },
  {
   "cell_type": "code",
   "execution_count": 6,
   "metadata": {},
   "outputs": [],
   "source": [
    "xpto = await generate_jd(jd_count = 2)"
   ]
  },
  {
   "cell_type": "code",
   "execution_count": 12,
   "metadata": {},
   "outputs": [
    {
     "data": {
      "text/markdown": [
       "# Job Description: Accountant (2 Years Experience)\n",
       "\n",
       "## Position Overview\n",
       "We are seeking a detail-oriented and proactive Accountant with 2 years of professional experience to join our finance team. The ideal candidate will be responsible for managing financial records, preparing reports, and ensuring compliance with accounting standards and regulations.\n",
       "\n",
       "## Key Responsibilities\n",
       "- Maintain and update financial records, including ledgers, journals, and bank reconciliations.\n",
       "- Prepare monthly, quarterly, and annual financial statements and reports.\n",
       "- Assist in budget preparation and financial forecasting.\n",
       "- Ensure compliance with local, state, and federal government reporting requirements and tax filings.\n",
       "- Support internal and external audits by providing necessary documentation and explanations.\n",
       "- Collaborate with other departments to streamline financial processes and improve accuracy.\n",
       "- Monitor accounts payable and receivable, ensuring timely payments and collections.\n",
       "- Analyze financial data to identify trends, discrepancies, and opportunities for cost savings.\n",
       "\n",
       "## Requirements\n",
       "- Bachelor’s degree in Accounting, Finance, or related field.\n",
       "- Minimum of 2 years of accounting experience, preferably in a corporate environment.\n",
       "- Proficiency in accounting software (e.g., QuickBooks, SAP, Oracle).\n",
       "- Strong knowledge of GAAP and relevant financial regulations.\n",
       "- Excellent analytical and problem-solving skills.\n",
       "- High attention to detail and accuracy.\n",
       "- Strong organizational and time management abilities.\n",
       "- Effective communication skills, both written and verbal.\n",
       "- Ability to work independently and as part of a team.\n",
       "- Experience with Microsoft Excel, including advanced functions and pivot tables.\n",
       "\n",
       "## Preferred Qualifications\n",
       "- CPA certification or progress towards certification.\n",
       "- Experience with ERP systems.\n",
       "- Familiarity with tax preparation and filing processes.\n",
       "- Knowledge of financial modeling and data analysis tools.\n",
       "\n",
       "## What We Offer\n",
       "- Competitive salary and benefits package.\n",
       "- Opportunities for professional growth and development.\n",
       "- Collaborative and supportive work environment.\n",
       "- Flexible working hours and remote work options.\n",
       "\n",
       "If you meet the above requirements and are eager to contribute to a dynamic finance team, please submit your resume and cover letter for consideration."
      ],
      "text/plain": [
       "<IPython.core.display.Markdown object>"
      ]
     },
     "metadata": {},
     "output_type": "display_data"
    }
   ],
   "source": [
    "from IPython.display import Markdown\n",
    "display(Markdown(xpto[1].messages[-1].content))"
   ]
  }
 ],
 "metadata": {
  "kernelspec": {
   "display_name": ".venv",
   "language": "python",
   "name": "python3"
  },
  "language_info": {
   "codemirror_mode": {
    "name": "ipython",
    "version": 3
   },
   "file_extension": ".py",
   "mimetype": "text/x-python",
   "name": "python",
   "nbconvert_exporter": "python",
   "pygments_lexer": "ipython3",
   "version": "3.12.11"
  }
 },
 "nbformat": 4,
 "nbformat_minor": 2
}
