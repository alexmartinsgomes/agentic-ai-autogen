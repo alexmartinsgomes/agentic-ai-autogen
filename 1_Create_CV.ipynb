{
 "cells": [
  {
   "cell_type": "code",
   "execution_count": 7,
   "metadata": {},
   "outputs": [],
   "source": [
    "import os\n",
    "import hashlib\n",
    "import random\n",
    "import asyncio\n",
    "\n",
    "from autogen_ext.models.openai import OpenAIChatCompletionClient\n",
    "from autogen_agentchat.agents import AssistantAgent\n",
    "\n",
    "from dotenv import load_dotenv\n",
    "_ = load_dotenv(override=True)\n",
    "NEXUS_API_KEY = os.getenv(\"ATENTO_NEXUS_API_KEY\")\n",
    "NEXUS_URL = os.getenv(\"ATENTO_NEXUS_URL\")"
   ]
  },
  {
   "cell_type": "code",
   "execution_count": 2,
   "metadata": {},
   "outputs": [],
   "source": [
    "from autogen_ext.models.openai import OpenAIChatCompletionClient\n",
    "model_client = OpenAIChatCompletionClient(\n",
    "    model=\"gpt-4.1-mini\",\n",
    "    temperature = 1.0,\n",
    "    seed = random.randint(0, 65535),\n",
    "    api_key=NEXUS_API_KEY,\n",
    "    base_url=NEXUS_URL\n",
    ")"
   ]
  },
  {
   "cell_type": "code",
   "execution_count": 3,
   "metadata": {},
   "outputs": [],
   "source": [
    "from autogen_agentchat.agents import AssistantAgent\n",
    "agent = AssistantAgent(\n",
    "    name=\"cv_generator\",\n",
    "    model_client=model_client,\n",
    "    system_message=\"\"\"You are a helpful assistant that generates random 1-page CVs in Markdown format.\n",
    "    Add random phone, email, Github, home address, work experience etc. which may look real.  \n",
    "    Produce the contents of the CV only avoid any further comments or clarification.\"\"\"\n",
    ")"
   ]
  },
  {
   "cell_type": "code",
   "execution_count": 4,
   "metadata": {},
   "outputs": [],
   "source": [
    "fields = ['Computer Science', 'Machine Learning', 'Accounting', 'Marketing', 'Customer Service', 'Backend Developer', 'Frontend Developer',\n",
    "          'AI Engineering', 'Data Science', 'Applied Mathematics', 'Statistics']\n",
    "experience = [2, 3, 5, 7, 10]\n",
    "languages = ['English', 'Portuguese', 'Spanish']"
   ]
  },
  {
   "cell_type": "code",
   "execution_count": 5,
   "metadata": {},
   "outputs": [],
   "source": [
    "async def generate_cv(cv_count=10):\n",
    "\n",
    "    cvs = []\n",
    "    \n",
    "    async with asyncio.TaskGroup() as tg:\n",
    "        task_list = []\n",
    "        \n",
    "        for i in range(cv_count):\n",
    "            field = random.choice(fields)\n",
    "            exp = random.choice(experience)\n",
    "            lang = random.choice(languages)\n",
    "            \n",
    "            task_prompt = f\"Produce a CV for the field of {field} with {exp} years of experience. The CV must be written in the following language: {lang}.\"\n",
    "            \n",
    "            task = tg.create_task(agent.run(task=task_prompt))\n",
    "            task_list.append(task)\n",
    "    \n",
    "    cvs = [task.result() for task in task_list]\n",
    "    \n",
    "    return cvs"
   ]
  },
  {
   "cell_type": "code",
   "execution_count": 27,
   "metadata": {},
   "outputs": [],
   "source": [
    "list_of_cvs = await generate_cv(cv_count = 10)"
   ]
  },
  {
   "cell_type": "code",
   "execution_count": 28,
   "metadata": {},
   "outputs": [],
   "source": [
    "temp = []\n",
    "for i in range(len(list_of_cvs)):\n",
    "    temp.append(list_of_cvs[i].messages[-1].content)"
   ]
  },
  {
   "cell_type": "code",
   "execution_count": 29,
   "metadata": {},
   "outputs": [],
   "source": [
    "def write_to_file(cv_list):\n",
    "    \n",
    "    output_folder = 'database'\n",
    "    os.makedirs(output_folder, exist_ok=True)\n",
    "\n",
    "    for i, md_content in enumerate(cv_list):\n",
    "        md_content_bytes = md_content.encode('utf-8')\n",
    "        md5_hash = hashlib.md5(md_content_bytes).hexdigest()\n",
    "        filename = f\"cv-{md5_hash}.md\"\n",
    "        filepath = os.path.join(output_folder, filename)\n",
    "        try:\n",
    "            with open(filepath, 'w', encoding='utf-8') as f:\n",
    "                f.write(md_content)\n",
    "            print(f\"Saved: {filename}\")\n",
    "        except IOError as e:\n",
    "            print(f\"Error saving file {filename}: {e}\")"
   ]
  },
  {
   "cell_type": "code",
   "execution_count": 30,
   "metadata": {},
   "outputs": [
    {
     "name": "stdout",
     "output_type": "stream",
     "text": [
      "Saved: cv-afe3ee36434f0a552ef2951d04856ef5.md\n",
      "Saved: cv-7e329181bb1aa59b20677bef25cdfdef.md\n",
      "Saved: cv-3660011f234af9bfecf0166643170fdd.md\n",
      "Saved: cv-6a4d09b8a4a1ad0bc1e777ac0ff599bc.md\n",
      "Saved: cv-e1133c6aa5894b42266ba30c25fc605e.md\n",
      "Saved: cv-23bbab5119f888d2c6e1d45255a858c0.md\n",
      "Saved: cv-6a340bf96465297e20aef98934dba912.md\n",
      "Saved: cv-e5ebf96cd7a51d429b347c7f44f5f0c0.md\n",
      "Saved: cv-08371b5ac6e49f0739408018b4524cea.md\n",
      "Saved: cv-66baab7fca57a5df8a705c8de0f7d048.md\n"
     ]
    }
   ],
   "source": [
    "write_to_file(temp)"
   ]
  },
  {
   "cell_type": "code",
   "execution_count": 10,
   "metadata": {},
   "outputs": [
    {
     "data": {
      "text/markdown": [
       "# Currículo Vitae\n",
       "\n",
       "## João Pedro Almeida\n",
       "\n",
       "**Endereço:** Rua das Flores, 123, São Paulo, SP, Brasil  \n",
       "**Telefone:** +55 11 98765-4321  \n",
       "**E-mail:** joaopedro.almeida@gmail.com  \n",
       "**LinkedIn:** linkedin.com/in/joaopedroalmeida  \n",
       "**GitHub:** github.com/joaopedroam\n",
       "\n",
       "---\n",
       "\n",
       "## Objetivo\n",
       "\n",
       "Aplicar conhecimentos avançados em matemática aplicada para resolver problemas complexos e contribuir para projetos multidisciplinares em empresas de tecnologia, finanças ou pesquisa.\n",
       "\n",
       "---\n",
       "\n",
       "## Experiência Profissional\n",
       "\n",
       "**Analista de Matemática Aplicada**  \n",
       "TechSolutions Brasil – São Paulo, SP  \n",
       "Março 2022 – Presente  \n",
       "- Desenvolvimento de modelos matemáticos para otimização de processos internos.  \n",
       "- Análise estatística e implementação de algoritmos para previsão de demanda.  \n",
       "- Colaboração com equipes de engenharia para solução de problemas técnicos.  \n",
       "\n",
       "**Estagiário em Pesquisa Matemática Aplicada**  \n",
       "Universidade Federal de São Paulo (UNIFESP) – São Paulo, SP  \n",
       "Julho 2021 – Dezembro 2021  \n",
       "- Auxílio em projetos de modelagem matemática no campo da biomedicina.  \n",
       "- Desenvolvimento de códigos em Python para análise e visualização de dados experimentais.  \n",
       "- Participação em reuniões para discussão de resultados e preparação de publicações.\n",
       "\n",
       "---\n",
       "\n",
       "## Formação Acadêmica\n",
       "\n",
       "**Bacharelado em Matemática Aplicada e Computacional**  \n",
       "Universidade de São Paulo (USP) – São Paulo, SP  \n",
       "Concluído em Dezembro 2021\n",
       "\n",
       "---\n",
       "\n",
       "## Habilidades Técnicas\n",
       "\n",
       "- Linguagens de programação: Python, R, MATLAB  \n",
       "- Técnicas matemáticas: otimização, modelagem estatística, análise numérica  \n",
       "- Ferramentas: Jupyter Notebook, Excel avançado, LaTeX  \n",
       "- Conhecimentos em machine learning e visualização de dados  \n",
       "\n",
       "---\n",
       "\n",
       "## Idiomas\n",
       "\n",
       "- Português: Nativo  \n",
       "- Inglês: Avançado (leitura, escrita e conversação)  \n",
       "\n",
       "---\n",
       "\n",
       "## Projetos relevantes\n",
       "\n",
       "- **Previsão de séries temporais para vendas**: Desenvolvimento de modelo ARIMA para previsão acurada das vendas mensais de uma empresa do setor varejista.  \n",
       "- **Análise de risco em investimentos**: Implementação de simuladores Monte Carlo para avaliação de risco em carteiras financeiras.\n",
       "\n",
       "---\n",
       "\n",
       "## Referências\n",
       "\n",
       "Disponíveis mediante solicitação."
      ],
      "text/plain": [
       "<IPython.core.display.Markdown object>"
      ]
     },
     "metadata": {},
     "output_type": "display_data"
    }
   ],
   "source": [
    "from IPython.display import Markdown\n",
    "display(Markdown(xpto[9].messages[-1].content))"
   ]
  }
 ],
 "metadata": {
  "kernelspec": {
   "display_name": ".venv",
   "language": "python",
   "name": "python3"
  },
  "language_info": {
   "codemirror_mode": {
    "name": "ipython",
    "version": 3
   },
   "file_extension": ".py",
   "mimetype": "text/x-python",
   "name": "python",
   "nbconvert_exporter": "python",
   "pygments_lexer": "ipython3",
   "version": "3.12.11"
  }
 },
 "nbformat": 4,
 "nbformat_minor": 2
}
