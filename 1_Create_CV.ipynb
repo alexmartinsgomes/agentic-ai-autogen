{
 "cells": [
  {
   "cell_type": "code",
   "execution_count": 1,
   "metadata": {},
   "outputs": [],
   "source": [
    "import os\n",
    "import random\n",
    "import asyncio\n",
    "\n",
    "from autogen_ext.models.openai import OpenAIChatCompletionClient\n",
    "from autogen_agentchat.agents import AssistantAgent\n",
    "\n",
    "from dotenv import load_dotenv\n",
    "_ = load_dotenv(override=True)\n",
    "NEXUS_API_KEY = os.getenv(\"ATENTO_NEXUS_API_KEY\")\n",
    "NEXUS_URL = os.getenv(\"ATENTO_NEXUS_URL\")"
   ]
  },
  {
   "cell_type": "code",
   "execution_count": 2,
   "metadata": {},
   "outputs": [],
   "source": [
    "from autogen_ext.models.openai import OpenAIChatCompletionClient\n",
    "model_client = OpenAIChatCompletionClient(\n",
    "    model=\"gpt-4.1-mini\",\n",
    "    temperature = 1.0,\n",
    "    seed = random.randint(0, 65535),\n",
    "    api_key=NEXUS_API_KEY,\n",
    "    base_url=NEXUS_URL\n",
    ")"
   ]
  },
  {
   "cell_type": "code",
   "execution_count": 3,
   "metadata": {},
   "outputs": [],
   "source": [
    "from autogen_agentchat.agents import AssistantAgent\n",
    "agent = AssistantAgent(\n",
    "    name=\"cv_generator\",\n",
    "    model_client=model_client,\n",
    "    system_message=\"\"\"You are a helpful assistant that generates random 1-page CVs in Markdown format.\n",
    "    Add random phone, email, Github, home address, work experience etc. which may look real.  \n",
    "    Produce the contents of the CV only avoid any further comments or clarification.\"\"\"\n",
    ")"
   ]
  },
  {
   "cell_type": "code",
   "execution_count": 5,
   "metadata": {},
   "outputs": [],
   "source": [
    "fields = ['Computer Science', 'Machine Learning', 'Accounting', 'Marketing', 'Customer Service', 'Backend Developer', 'Frontend Developer',\n",
    "          'AI Engineering', 'Data Science', 'Applied Mathematics', 'Statistics']\n",
    "experience = [2, 3, 5, 7, 10]\n",
    "languages = ['English', 'Portuguese', 'Spanish']"
   ]
  },
  {
   "cell_type": "code",
   "execution_count": 18,
   "metadata": {},
   "outputs": [],
   "source": [
    "async def generate_cv(cv_count=10):\n",
    "    tasks = []\n",
    "    \n",
    "    for i in range(cv_count):\n",
    "        field = random.choice(fields)\n",
    "        exp = random.choice(experience)\n",
    "        lang = random.choice(languages)\n",
    "        task = f\"Produce a CV for the field of {field} with {exp} years of experience. The CV must be written in the following language: {lang}.\"\n",
    "        tasks.append(agent.run(task=task))\n",
    "    \n",
    "    cvs = await asyncio.gather(*tasks)\n",
    "    return cvs"
   ]
  },
  {
   "cell_type": "code",
   "execution_count": null,
   "metadata": {},
   "outputs": [],
   "source": [
    "xpto = await generate_cv(cv_count = 10)"
   ]
  },
  {
   "cell_type": "code",
   "execution_count": 17,
   "metadata": {},
   "outputs": [
    {
     "data": {
      "text/markdown": [
       "# Curriculum Vitae\n",
       "\n",
       "**Name:** James Miller  \n",
       "**Phone:** +1 (555) 789-2345  \n",
       "**Email:** james.miller.ds@gmail.com  \n",
       "**GitHub:** github.com/jamesmillerds  \n",
       "**Address:** 45 Greenway Blvd, Apartment 7B, San Francisco, CA, 94105, USA  \n",
       "\n",
       "---\n",
       "\n",
       "### Profile  \n",
       "Data Scientist with 7 years of experience specializing in predictive modeling, data mining, and large-scale data analysis. Adept at using machine learning algorithms and statistical analysis to derive business insights and improve decision-making processes. Strong background in Python, R, and cloud-based data platforms.\n",
       "\n",
       "---\n",
       "\n",
       "### Skills  \n",
       "- Programming: Python, R, SQL, Scala  \n",
       "- Machine Learning: Scikit-Learn, TensorFlow, Keras, XGBoost  \n",
       "- Data Visualization: Tableau, Power BI, Matplotlib, Seaborn  \n",
       "- Big Data Technologies: Apache Spark, Hadoop  \n",
       "- Cloud Platforms: AWS, Google Cloud Platform, Azure  \n",
       "- Statistical Analysis & Probability  \n",
       "- Data Cleaning & Preprocessing  \n",
       "- Natural Language Processing (NLP)  \n",
       "- Strong communication and presentation skills  \n",
       "\n",
       "---\n",
       "\n",
       "### Professional Experience  \n",
       "\n",
       "**Senior Data Scientist**  \n",
       "Tech Solutions Inc., San Francisco, CA  \n",
       "*June 2020 – Present*  \n",
       "- Designed and implemented predictive models improving customer retention by 15%.  \n",
       "- Led data science efforts for marketing campaigns resulting in increased ROI by 20%.  \n",
       "- Automated data processing pipelines with Apache Spark on AWS infrastructure.\n",
       "\n",
       "**Data Scientist**  \n",
       "Innovate Analytics, New York, NY  \n",
       "*May 2016 – May 2020*  \n",
       "- Developed machine learning models for fraud detection with 95% accuracy.  \n",
       "- Collaborated closely with data engineers and product teams to optimize data workflows.  \n",
       "- Created interactive dashboards with Tableau to visualize key performance metrics.\n",
       "\n",
       "**Junior Data Scientist**  \n",
       "Bright Minds LLC, Boston, MA  \n",
       "*July 2014 – April 2016*  \n",
       "- Conducted exploratory data analysis and feature engineering for predictive models.  \n",
       "- Assisted in building recommendation systems utilized by e-commerce platform.  \n",
       "- Performed A/B testing and statistical hypothesis testing to support business decisions.\n",
       "\n",
       "---\n",
       "\n",
       "### Education  \n",
       "\n",
       "**Master of Science in Data Science**  \n",
       "University of California, Berkeley – 2014  \n",
       "\n",
       "**Bachelor of Science in Computer Science**  \n",
       "Boston University – 2012  \n",
       "\n",
       "---\n",
       "\n",
       "### Certifications  \n",
       "- Certified Data Scientist – Data Science Council of America (DASCA)  \n",
       "- AWS Certified Machine Learning – Specialty  \n",
       "\n",
       "---\n",
       "\n",
       "### Languages  \n",
       "- English (Native)  \n",
       "- Spanish (Professional working proficiency)  \n",
       "\n",
       "---\n",
       "\n",
       "### Interests  \n",
       "- Open-source contributions  \n",
       "- Data visualization art  \n",
       "- Running and hiking"
      ],
      "text/plain": [
       "<IPython.core.display.Markdown object>"
      ]
     },
     "metadata": {},
     "output_type": "display_data"
    }
   ],
   "source": [
    "from IPython.display import Markdown\n",
    "display(Markdown(xpto[5].messages[-1].content))"
   ]
  }
 ],
 "metadata": {
  "kernelspec": {
   "display_name": ".venv",
   "language": "python",
   "name": "python3"
  },
  "language_info": {
   "codemirror_mode": {
    "name": "ipython",
    "version": 3
   },
   "file_extension": ".py",
   "mimetype": "text/x-python",
   "name": "python",
   "nbconvert_exporter": "python",
   "pygments_lexer": "ipython3",
   "version": "3.12.11"
  }
 },
 "nbformat": 4,
 "nbformat_minor": 2
}
